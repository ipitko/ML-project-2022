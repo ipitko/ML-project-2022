{
 "cells": [
  {
   "cell_type": "markdown",
   "id": "acf287c6",
   "metadata": {},
   "source": [
    "# Predicting the Mental Health State of University Students"
   ]
  },
  {
   "cell_type": "code",
   "execution_count": 10,
   "id": "4905134b",
   "metadata": {},
   "outputs": [],
   "source": [
    "import numpy as np\n",
    "import pandas as pd\n",
    "from scipy.stats import sem\n",
    "\n",
    "#Libraries for data visualization\n",
    "import matplotlib.pyplot as plt\n",
    "import seaborn as sns\n",
    "\n",
    "#We will use sklearn for building logistic regression model\n",
    "from sklearn.linear_model import LogisticRegression\n",
    "from sklearn.preprocessing import MinMaxScaler\n",
    "from sklearn.metrics import accuracy_score, confusion_matrix, classification_report\n",
    "from sklearn.model_selection import train_test_split, RepeatedKFold, cross_val_score, KFold\n",
    "from sklearn.datasets import make_classification\n",
    "from sklearn.tree import export_text, plot_tree, DecisionTreeClassifier, export_graphviz"
   ]
  },
  {
   "cell_type": "code",
   "execution_count": 11,
   "id": "1ada3f7f",
   "metadata": {},
   "outputs": [],
   "source": [
    "df = pd.read_csv('Student Mental health.csv') # raw datafile"
   ]
  },
  {
   "cell_type": "code",
   "execution_count": 12,
   "id": "6eb3ead4",
   "metadata": {},
   "outputs": [
    {
     "name": "stdout",
     "output_type": "stream",
     "text": [
      "<class 'pandas.core.frame.DataFrame'>\n",
      "RangeIndex: 101 entries, 0 to 100\n",
      "Data columns (total 11 columns):\n",
      " #   Column                                        Non-Null Count  Dtype  \n",
      "---  ------                                        --------------  -----  \n",
      " 0   Timestamp                                     101 non-null    object \n",
      " 1   Choose your gender                            101 non-null    object \n",
      " 2   Age                                           100 non-null    float64\n",
      " 3   What is your course?                          101 non-null    object \n",
      " 4   Your current year of Study                    101 non-null    object \n",
      " 5   What is your CGPA?                            101 non-null    object \n",
      " 6   Marital status                                101 non-null    object \n",
      " 7   Do you have Depression?                       101 non-null    object \n",
      " 8   Do you have Anxiety?                          101 non-null    object \n",
      " 9   Do you have Panic attack?                     101 non-null    object \n",
      " 10  Did you seek any specialist for a treatment?  101 non-null    object \n",
      "dtypes: float64(1), object(10)\n",
      "memory usage: 8.8+ KB\n"
     ]
    }
   ],
   "source": [
    "df.info()"
   ]
  },
  {
   "cell_type": "code",
   "execution_count": 13,
   "id": "f9ad8cb9",
   "metadata": {},
   "outputs": [
    {
     "data": {
      "text/html": [
       "<div>\n",
       "<style scoped>\n",
       "    .dataframe tbody tr th:only-of-type {\n",
       "        vertical-align: middle;\n",
       "    }\n",
       "\n",
       "    .dataframe tbody tr th {\n",
       "        vertical-align: top;\n",
       "    }\n",
       "\n",
       "    .dataframe thead th {\n",
       "        text-align: right;\n",
       "    }\n",
       "</style>\n",
       "<table border=\"1\" class=\"dataframe\">\n",
       "  <thead>\n",
       "    <tr style=\"text-align: right;\">\n",
       "      <th></th>\n",
       "      <th>Age</th>\n",
       "    </tr>\n",
       "  </thead>\n",
       "  <tbody>\n",
       "    <tr>\n",
       "      <th>count</th>\n",
       "      <td>100.00000</td>\n",
       "    </tr>\n",
       "    <tr>\n",
       "      <th>mean</th>\n",
       "      <td>20.53000</td>\n",
       "    </tr>\n",
       "    <tr>\n",
       "      <th>std</th>\n",
       "      <td>2.49628</td>\n",
       "    </tr>\n",
       "    <tr>\n",
       "      <th>min</th>\n",
       "      <td>18.00000</td>\n",
       "    </tr>\n",
       "    <tr>\n",
       "      <th>25%</th>\n",
       "      <td>18.00000</td>\n",
       "    </tr>\n",
       "    <tr>\n",
       "      <th>50%</th>\n",
       "      <td>19.00000</td>\n",
       "    </tr>\n",
       "    <tr>\n",
       "      <th>75%</th>\n",
       "      <td>23.00000</td>\n",
       "    </tr>\n",
       "    <tr>\n",
       "      <th>max</th>\n",
       "      <td>24.00000</td>\n",
       "    </tr>\n",
       "  </tbody>\n",
       "</table>\n",
       "</div>"
      ],
      "text/plain": [
       "             Age\n",
       "count  100.00000\n",
       "mean    20.53000\n",
       "std      2.49628\n",
       "min     18.00000\n",
       "25%     18.00000\n",
       "50%     19.00000\n",
       "75%     23.00000\n",
       "max     24.00000"
      ]
     },
     "execution_count": 13,
     "metadata": {},
     "output_type": "execute_result"
    }
   ],
   "source": [
    "df.describe()"
   ]
  },
  {
   "cell_type": "markdown",
   "id": "feafa4e0",
   "metadata": {},
   "source": [
    "In the next cells, some unimportant columns are removed and columns are renamed"
   ]
  },
  {
   "cell_type": "code",
   "execution_count": 14,
   "id": "f2600a2f",
   "metadata": {},
   "outputs": [],
   "source": [
    "df.drop(columns=[\"Timestamp\", \"What is your course?\", \"Did you seek any specialist for a treatment?\"], inplace = True)"
   ]
  },
  {
   "cell_type": "code",
   "execution_count": 15,
   "id": "e9f93c3d",
   "metadata": {},
   "outputs": [
    {
     "data": {
      "text/html": [
       "<div>\n",
       "<style scoped>\n",
       "    .dataframe tbody tr th:only-of-type {\n",
       "        vertical-align: middle;\n",
       "    }\n",
       "\n",
       "    .dataframe tbody tr th {\n",
       "        vertical-align: top;\n",
       "    }\n",
       "\n",
       "    .dataframe thead th {\n",
       "        text-align: right;\n",
       "    }\n",
       "</style>\n",
       "<table border=\"1\" class=\"dataframe\">\n",
       "  <thead>\n",
       "    <tr style=\"text-align: right;\">\n",
       "      <th></th>\n",
       "      <th>Choose your gender</th>\n",
       "      <th>Age</th>\n",
       "      <th>Your current year of Study</th>\n",
       "      <th>What is your CGPA?</th>\n",
       "      <th>Marital status</th>\n",
       "      <th>Do you have Depression?</th>\n",
       "      <th>Do you have Anxiety?</th>\n",
       "      <th>Do you have Panic attack?</th>\n",
       "    </tr>\n",
       "  </thead>\n",
       "  <tbody>\n",
       "    <tr>\n",
       "      <th>0</th>\n",
       "      <td>Female</td>\n",
       "      <td>18.0</td>\n",
       "      <td>year 1</td>\n",
       "      <td>3.00 - 3.49</td>\n",
       "      <td>No</td>\n",
       "      <td>Yes</td>\n",
       "      <td>No</td>\n",
       "      <td>Yes</td>\n",
       "    </tr>\n",
       "    <tr>\n",
       "      <th>1</th>\n",
       "      <td>Male</td>\n",
       "      <td>21.0</td>\n",
       "      <td>year 2</td>\n",
       "      <td>3.00 - 3.49</td>\n",
       "      <td>No</td>\n",
       "      <td>No</td>\n",
       "      <td>Yes</td>\n",
       "      <td>No</td>\n",
       "    </tr>\n",
       "    <tr>\n",
       "      <th>2</th>\n",
       "      <td>Male</td>\n",
       "      <td>19.0</td>\n",
       "      <td>Year 1</td>\n",
       "      <td>3.00 - 3.49</td>\n",
       "      <td>No</td>\n",
       "      <td>Yes</td>\n",
       "      <td>Yes</td>\n",
       "      <td>Yes</td>\n",
       "    </tr>\n",
       "    <tr>\n",
       "      <th>3</th>\n",
       "      <td>Female</td>\n",
       "      <td>22.0</td>\n",
       "      <td>year 3</td>\n",
       "      <td>3.00 - 3.49</td>\n",
       "      <td>Yes</td>\n",
       "      <td>Yes</td>\n",
       "      <td>No</td>\n",
       "      <td>No</td>\n",
       "    </tr>\n",
       "    <tr>\n",
       "      <th>4</th>\n",
       "      <td>Male</td>\n",
       "      <td>23.0</td>\n",
       "      <td>year 4</td>\n",
       "      <td>3.00 - 3.49</td>\n",
       "      <td>No</td>\n",
       "      <td>No</td>\n",
       "      <td>No</td>\n",
       "      <td>No</td>\n",
       "    </tr>\n",
       "    <tr>\n",
       "      <th>...</th>\n",
       "      <td>...</td>\n",
       "      <td>...</td>\n",
       "      <td>...</td>\n",
       "      <td>...</td>\n",
       "      <td>...</td>\n",
       "      <td>...</td>\n",
       "      <td>...</td>\n",
       "      <td>...</td>\n",
       "    </tr>\n",
       "    <tr>\n",
       "      <th>96</th>\n",
       "      <td>Female</td>\n",
       "      <td>21.0</td>\n",
       "      <td>year 1</td>\n",
       "      <td>3.50 - 4.00</td>\n",
       "      <td>No</td>\n",
       "      <td>No</td>\n",
       "      <td>Yes</td>\n",
       "      <td>No</td>\n",
       "    </tr>\n",
       "    <tr>\n",
       "      <th>97</th>\n",
       "      <td>Male</td>\n",
       "      <td>18.0</td>\n",
       "      <td>Year 2</td>\n",
       "      <td>3.00 - 3.49</td>\n",
       "      <td>No</td>\n",
       "      <td>Yes</td>\n",
       "      <td>Yes</td>\n",
       "      <td>No</td>\n",
       "    </tr>\n",
       "    <tr>\n",
       "      <th>98</th>\n",
       "      <td>Female</td>\n",
       "      <td>19.0</td>\n",
       "      <td>Year 3</td>\n",
       "      <td>3.50 - 4.00</td>\n",
       "      <td>Yes</td>\n",
       "      <td>Yes</td>\n",
       "      <td>No</td>\n",
       "      <td>Yes</td>\n",
       "    </tr>\n",
       "    <tr>\n",
       "      <th>99</th>\n",
       "      <td>Female</td>\n",
       "      <td>23.0</td>\n",
       "      <td>year 4</td>\n",
       "      <td>3.50 - 4.00</td>\n",
       "      <td>No</td>\n",
       "      <td>No</td>\n",
       "      <td>No</td>\n",
       "      <td>No</td>\n",
       "    </tr>\n",
       "    <tr>\n",
       "      <th>100</th>\n",
       "      <td>Male</td>\n",
       "      <td>20.0</td>\n",
       "      <td>Year 2</td>\n",
       "      <td>3.00 - 3.49</td>\n",
       "      <td>No</td>\n",
       "      <td>No</td>\n",
       "      <td>No</td>\n",
       "      <td>No</td>\n",
       "    </tr>\n",
       "  </tbody>\n",
       "</table>\n",
       "<p>101 rows × 8 columns</p>\n",
       "</div>"
      ],
      "text/plain": [
       "    Choose your gender   Age Your current year of Study What is your CGPA?  \\\n",
       "0               Female  18.0                     year 1        3.00 - 3.49   \n",
       "1                 Male  21.0                     year 2        3.00 - 3.49   \n",
       "2                 Male  19.0                     Year 1        3.00 - 3.49   \n",
       "3               Female  22.0                     year 3        3.00 - 3.49   \n",
       "4                 Male  23.0                     year 4        3.00 - 3.49   \n",
       "..                 ...   ...                        ...                ...   \n",
       "96              Female  21.0                     year 1        3.50 - 4.00   \n",
       "97                Male  18.0                     Year 2        3.00 - 3.49   \n",
       "98              Female  19.0                     Year 3        3.50 - 4.00   \n",
       "99              Female  23.0                     year 4        3.50 - 4.00   \n",
       "100               Male  20.0                     Year 2        3.00 - 3.49   \n",
       "\n",
       "    Marital status Do you have Depression? Do you have Anxiety?  \\\n",
       "0               No                     Yes                   No   \n",
       "1               No                      No                  Yes   \n",
       "2               No                     Yes                  Yes   \n",
       "3              Yes                     Yes                   No   \n",
       "4               No                      No                   No   \n",
       "..             ...                     ...                  ...   \n",
       "96              No                      No                  Yes   \n",
       "97              No                     Yes                  Yes   \n",
       "98             Yes                     Yes                   No   \n",
       "99              No                      No                   No   \n",
       "100             No                      No                   No   \n",
       "\n",
       "    Do you have Panic attack?  \n",
       "0                         Yes  \n",
       "1                          No  \n",
       "2                         Yes  \n",
       "3                          No  \n",
       "4                          No  \n",
       "..                        ...  \n",
       "96                         No  \n",
       "97                         No  \n",
       "98                        Yes  \n",
       "99                         No  \n",
       "100                        No  \n",
       "\n",
       "[101 rows x 8 columns]"
      ]
     },
     "execution_count": 15,
     "metadata": {},
     "output_type": "execute_result"
    }
   ],
   "source": [
    "df"
   ]
  },
  {
   "cell_type": "code",
   "execution_count": 16,
   "id": "2eedba33",
   "metadata": {},
   "outputs": [],
   "source": [
    "df.columns = [\"gender\", \"age\", \"year\", \"gpa\", \"marital_status\", \"depression\", \"anxiety\", \"panic\"]"
   ]
  },
  {
   "cell_type": "markdown",
   "id": "92c91b19",
   "metadata": {},
   "source": [
    "Changing the years and gpa into single values. Gpa is classified so that lowest range is 1, second lowest 2 etc. "
   ]
  },
  {
   "cell_type": "code",
   "execution_count": 17,
   "id": "32965fa9",
   "metadata": {},
   "outputs": [],
   "source": [
    "df['year'].replace({'Year 2': '2' , 'year 2':'2' , 'Year 3':'3' , 'year 3':'3' , 'Year 1':'1','year 4':'4','year 1': '1'} , inplace = True)\n",
    "df['gpa'].replace({'0 - 1.99': '1' , '2.00 - 2.49':'2' , '2.50 - 2.99':'3' , '3.00 - 3.49':'4' , '3.50 - 4.00':'5', '3.50 - 4.00 ':'5'} , inplace = True)\n",
    "df['marital_status'].replace({'Yes': '1' , 'yes':'1' , 'No':'0' , 'no':'0'} , inplace = True)"
   ]
  },
  {
   "cell_type": "code",
   "execution_count": 18,
   "id": "1103f2eb",
   "metadata": {},
   "outputs": [],
   "source": [
    "df['depression'].replace({'Yes': '1' , 'No':'0'} , inplace = True) \n",
    "df['anxiety'].replace({'Yes': '1' , 'No':'0'} , inplace = True) \n",
    "df['panic'].replace({'Yes': '1' , 'No':'0'} , inplace = True)"
   ]
  },
  {
   "cell_type": "code",
   "execution_count": 19,
   "id": "3b76ab70",
   "metadata": {},
   "outputs": [],
   "source": [
    "mental_health = []\n",
    "i = 0\n",
    "while i < 101:\n",
    "    if df[\"depression\"][i] == \"0\" and df[\"anxiety\"][i] == \"0\" and df[\"panic\"][i] == \"0\":\n",
    "        status = 0\n",
    "    else:\n",
    "        status = 1\n",
    "    i +=1\n",
    "    mental_health.append(status)\n",
    "\n",
    "df[\"mental_health\"] = mental_health"
   ]
  },
  {
   "cell_type": "code",
   "execution_count": 20,
   "id": "cf14b183",
   "metadata": {},
   "outputs": [],
   "source": [
    "df = df.drop(columns=[\"depression\", \"anxiety\", \"panic\"])"
   ]
  },
  {
   "cell_type": "code",
   "execution_count": 21,
   "id": "92648cdd",
   "metadata": {},
   "outputs": [],
   "source": [
    "df = df.dropna()"
   ]
  },
  {
   "cell_type": "code",
   "execution_count": 22,
   "id": "6de73f74",
   "metadata": {},
   "outputs": [
    {
     "data": {
      "text/plain": [
       "1    0.64\n",
       "0    0.36\n",
       "Name: mental_health, dtype: float64"
      ]
     },
     "execution_count": 22,
     "metadata": {},
     "output_type": "execute_result"
    }
   ],
   "source": [
    "df['mental_health'].value_counts(normalize=True) # class imbalance"
   ]
  },
  {
   "cell_type": "code",
   "execution_count": 23,
   "id": "a2f55175",
   "metadata": {},
   "outputs": [
    {
     "data": {
      "image/png": "[encoded data removed]",
      "text/plain": [
       "<Figure size 432x288 with 1 Axes>"
      ]
     },
     "metadata": {
      "needs_background": "light"
     },
     "output_type": "display_data"
    }
   ],
   "source": [
    "# plot of the label distribution\n",
    "sns.countplot(x=\"mental_health\", data=df) \n",
    "plt.title(\"Class labels\")\n",
    "plt.show()"
   ]
  },
  {
   "cell_type": "code",
   "execution_count": 24,
   "id": "ef84f7a9-1f82-4830-bb0c-0d8d7c776929",
   "metadata": {},
   "outputs": [
    {
     "data": {
      "text/html": [
       "<div>\n",
       "<style scoped>\n",
       "    .dataframe tbody tr th:only-of-type {\n",
       "        vertical-align: middle;\n",
       "    }\n",
       "\n",
       "    .dataframe tbody tr th {\n",
       "        vertical-align: top;\n",
       "    }\n",
       "\n",
       "    .dataframe thead th {\n",
       "        text-align: right;\n",
       "    }\n",
       "</style>\n",
       "<table border=\"1\" class=\"dataframe\">\n",
       "  <thead>\n",
       "    <tr style=\"text-align: right;\">\n",
       "      <th></th>\n",
       "      <th>age</th>\n",
       "      <th>mental_health</th>\n",
       "      <th>gender_Female</th>\n",
       "      <th>gender_Male</th>\n",
       "      <th>year_1</th>\n",
       "      <th>year_2</th>\n",
       "      <th>year_3</th>\n",
       "      <th>year_4</th>\n",
       "      <th>gpa_1</th>\n",
       "      <th>gpa_2</th>\n",
       "      <th>gpa_3</th>\n",
       "      <th>gpa_4</th>\n",
       "      <th>gpa_5</th>\n",
       "      <th>marital_status_0</th>\n",
       "      <th>marital_status_1</th>\n",
       "    </tr>\n",
       "  </thead>\n",
       "  <tbody>\n",
       "    <tr>\n",
       "      <th>0</th>\n",
       "      <td>18.0</td>\n",
       "      <td>1</td>\n",
       "      <td>1</td>\n",
       "      <td>0</td>\n",
       "      <td>1</td>\n",
       "      <td>0</td>\n",
       "      <td>0</td>\n",
       "      <td>0</td>\n",
       "      <td>0</td>\n",
       "      <td>0</td>\n",
       "      <td>0</td>\n",
       "      <td>1</td>\n",
       "      <td>0</td>\n",
       "      <td>1</td>\n",
       "      <td>0</td>\n",
       "    </tr>\n",
       "    <tr>\n",
       "      <th>1</th>\n",
       "      <td>21.0</td>\n",
       "      <td>1</td>\n",
       "      <td>0</td>\n",
       "      <td>1</td>\n",
       "      <td>0</td>\n",
       "      <td>1</td>\n",
       "      <td>0</td>\n",
       "      <td>0</td>\n",
       "      <td>0</td>\n",
       "      <td>0</td>\n",
       "      <td>0</td>\n",
       "      <td>1</td>\n",
       "      <td>0</td>\n",
       "      <td>1</td>\n",
       "      <td>0</td>\n",
       "    </tr>\n",
       "    <tr>\n",
       "      <th>2</th>\n",
       "      <td>19.0</td>\n",
       "      <td>1</td>\n",
       "      <td>0</td>\n",
       "      <td>1</td>\n",
       "      <td>1</td>\n",
       "      <td>0</td>\n",
       "      <td>0</td>\n",
       "      <td>0</td>\n",
       "      <td>0</td>\n",
       "      <td>0</td>\n",
       "      <td>0</td>\n",
       "      <td>1</td>\n",
       "      <td>0</td>\n",
       "      <td>1</td>\n",
       "      <td>0</td>\n",
       "    </tr>\n",
       "    <tr>\n",
       "      <th>3</th>\n",
       "      <td>22.0</td>\n",
       "      <td>1</td>\n",
       "      <td>1</td>\n",
       "      <td>0</td>\n",
       "      <td>0</td>\n",
       "      <td>0</td>\n",
       "      <td>1</td>\n",
       "      <td>0</td>\n",
       "      <td>0</td>\n",
       "      <td>0</td>\n",
       "      <td>0</td>\n",
       "      <td>1</td>\n",
       "      <td>0</td>\n",
       "      <td>0</td>\n",
       "      <td>1</td>\n",
       "    </tr>\n",
       "    <tr>\n",
       "      <th>4</th>\n",
       "      <td>23.0</td>\n",
       "      <td>0</td>\n",
       "      <td>0</td>\n",
       "      <td>1</td>\n",
       "      <td>0</td>\n",
       "      <td>0</td>\n",
       "      <td>0</td>\n",
       "      <td>1</td>\n",
       "      <td>0</td>\n",
       "      <td>0</td>\n",
       "      <td>0</td>\n",
       "      <td>1</td>\n",
       "      <td>0</td>\n",
       "      <td>1</td>\n",
       "      <td>0</td>\n",
       "    </tr>\n",
       "  </tbody>\n",
       "</table>\n",
       "</div>"
      ],
      "text/plain": [
       "    age  mental_health  gender_Female  gender_Male  year_1  year_2  year_3  \\\n",
       "0  18.0              1              1            0       1       0       0   \n",
       "1  21.0              1              0            1       0       1       0   \n",
       "2  19.0              1              0            1       1       0       0   \n",
       "3  22.0              1              1            0       0       0       1   \n",
       "4  23.0              0              0            1       0       0       0   \n",
       "\n",
       "   year_4  gpa_1  gpa_2  gpa_3  gpa_4  gpa_5  marital_status_0  \\\n",
       "0       0      0      0      0      1      0                 1   \n",
       "1       0      0      0      0      1      0                 1   \n",
       "2       0      0      0      0      1      0                 1   \n",
       "3       0      0      0      0      1      0                 0   \n",
       "4       1      0      0      0      1      0                 1   \n",
       "\n",
       "   marital_status_1  \n",
       "0                 0  \n",
       "1                 0  \n",
       "2                 0  \n",
       "3                 1  \n",
       "4                 0  "
      ]
     },
     "execution_count": 24,
     "metadata": {},
     "output_type": "execute_result"
    }
   ],
   "source": [
    "df = df.dropna()\n",
    "df_dummies = pd.get_dummies(df)\n",
    "df_dummies.head()"
   ]
  },
  {
   "cell_type": "code",
   "execution_count": 25,
   "id": "8a4ded0b-e8c3-48f1-91ac-83c957097956",
   "metadata": {},
   "outputs": [],
   "source": [
    "#df.head()"
   ]
  },
  {
   "cell_type": "code",
   "execution_count": 26,
   "id": "d272083b",
   "metadata": {},
   "outputs": [],
   "source": [
    "# converting data types to numeric and checking their correlation\n",
    "\n",
    "# df['year'] = pd.to_numeric(df['year'])\n",
    "\n",
    "#corr_plot = sns.heatmap(df.corr(),annot = True,linewidths=3 )\n",
    "#plt.title(\"Correlation plot\")\n",
    "#plt.show()"
   ]
  },
  {
   "cell_type": "code",
   "execution_count": 27,
   "id": "39f7058f",
   "metadata": {},
   "outputs": [
    {
     "name": "stdout",
     "output_type": "stream",
     "text": [
      "(100, 14)\n",
      "(100,)\n"
     ]
    }
   ],
   "source": [
    "scaler = MinMaxScaler()\n",
    "df_dummies['age'] = scaler.fit_transform(df_dummies[['age']])\n",
    "\n",
    "features = ['age', 'year_1', 'year_2', 'year_3', 'year_4', 'gender_Male', 'gender_Female', 'gpa_1', 'gpa_2', 'gpa_3', 'gpa_4', 'gpa_5', 'marital_status_0', 'marital_status_1']\n",
    "X = df_dummies[features].to_numpy()\n",
    "y = df_dummies['mental_health'].to_numpy()\n",
    "\n",
    "print(X.shape)\n",
    "print(y.shape)"
   ]
  },
  {
   "cell_type": "code",
   "execution_count": 28,
   "id": "f4cd61a5",
   "metadata": {},
   "outputs": [
    {
     "name": "stdout",
     "output_type": "stream",
     "text": [
      "(80, 14)\n",
      "(20, 14)\n",
      "(80,)\n",
      "(20,)\n"
     ]
    }
   ],
   "source": [
    "#separating the testing set for the final comparison between models\n",
    "X_cross, X_test, y_cross, y_test = train_test_split(X,y,random_state=0,train_size=0.80)\n",
    "print(X_cross.shape)\n",
    "print(X_test.shape)\n",
    "print(y_cross.shape)\n",
    "print(y_test.shape)"
   ]
  },
  {
   "cell_type": "code",
   "execution_count": 29,
   "id": "d7996a4d-feec-4d20-b3b2-2c67eab8db89",
   "metadata": {},
   "outputs": [
    {
     "name": "stdout",
     "output_type": "stream",
     "text": [
      "Accuracy: 63.750% (8.292%)\n"
     ]
    }
   ],
   "source": [
    "#fitting the logistic regression model\n",
    "kfold = KFold(n_splits=5, random_state=0, shuffle=True)\n",
    "\n",
    "#cross-validation of logistic regression model\n",
    "model_lr = LogisticRegression(solver='liblinear')\n",
    "results = cross_val_score(model_lr, X_cross, y_cross, cv=kfold)\n",
    "\n",
    "# Output the accuracy. Calculate the mean and std across all folds. \n",
    "print(\"Accuracy: %.3f%% (%.3f%%)\" % (results.mean()*100.0, results.std()*100.0))"
   ]
  },
  {
   "cell_type": "code",
   "execution_count": 38,
   "id": "d0b945d3-753c-48f0-af24-c1f0acb295fe",
   "metadata": {},
   "outputs": [
    {
     "data": {
      "image/png": "[encoded data removed]",
      "text/plain": [
       "<Figure size 432x288 with 2 Axes>"
      ]
     },
     "metadata": {
      "needs_background": "light"
     },
     "output_type": "display_data"
    },
    {
     "name": "stdout",
     "output_type": "stream",
     "text": [
      "Prediction accuracy: 55.00%\n"
     ]
    }
   ],
   "source": [
    "# fitting and testing the cross validation model\n",
    "\n",
    "model_lr.fit(X_cross, y_cross)\n",
    "\n",
    "def generate_confusion_matrix(y_true, y_pred):\n",
    "    ax = plt.subplot()\n",
    "    c_mat = confusion_matrix(y_true, y_pred)\n",
    "    sns.heatmap(c_mat, annot=True, fmt='g', ax=ax)\n",
    "    ax.set_xlabel('Predicted labels', fontsize=15)\n",
    "    ax.set_ylabel('True labels', fontsize=15)\n",
    "    ax.set_title('Confusion Matrix', fontsize=15)\n",
    "    \n",
    "y_pred = model_lr.predict(X_test)\n",
    "\n",
    "generate_confusion_matrix(y_test, y_pred)\n",
    "plt.show()\n",
    "multi_accuracy = accuracy_score(y_test, y_pred)\n",
    "print(f\"Prediction accuracy: {100*multi_accuracy:.2f}%\")\n"
   ]
  },
  {
   "cell_type": "code",
   "execution_count": 31,
   "id": "f14d78ea",
   "metadata": {},
   "outputs": [
    {
     "name": "stdout",
     "output_type": "stream",
     "text": [
      "              precision    recall  f1-score   support\n",
      "\n",
      "           0       0.50      0.11      0.18         9\n",
      "           1       0.56      0.91      0.69        11\n",
      "\n",
      "    accuracy                           0.55        20\n",
      "   macro avg       0.53      0.51      0.44        20\n",
      "weighted avg       0.53      0.55      0.46        20\n",
      "\n"
     ]
    }
   ],
   "source": [
    "report = classification_report(y_test, y_pred)\n",
    "print(report)"
   ]
  },
  {
   "cell_type": "code",
   "execution_count": 32,
   "id": "37aaff86-9f4b-42f7-b595-195ee04bef25",
   "metadata": {},
   "outputs": [
    {
     "name": "stdout",
     "output_type": "stream",
     "text": [
      "Accuracy: 61.250% (12.119%)\n"
     ]
    }
   ],
   "source": [
    "model_dt = DecisionTreeClassifier(criterion=\"entropy\", class_weight='balanced', random_state=0) # criterion entropuy ??\n",
    "results = cross_val_score(model_dt, X_cross, y_cross, cv=kfold)\n",
    "\n",
    "# Output the accuracy. Calculate the mean and std across all folds. \n",
    "print(\"Accuracy: %.3f%% (%.3f%%)\" % (results.mean()*100.0, results.std()*100.0))"
   ]
  },
  {
   "cell_type": "code",
   "execution_count": 33,
   "id": "c3a65516-ce5d-4ee4-80b8-16e6fb5f4e6e",
   "metadata": {},
   "outputs": [
    {
     "data": {
      "image/png": "[encoded data removed]",
      "text/plain": [
       "<Figure size 432x288 with 2 Axes>"
      ]
     },
     "metadata": {
      "needs_background": "light"
     },
     "output_type": "display_data"
    },
    {
     "name": "stdout",
     "output_type": "stream",
     "text": [
      "Prediction accuracy: 50.00%\n"
     ]
    }
   ],
   "source": [
    "model_dt.fit(X_cross, y_cross)\n",
    "\n",
    "def generate_confusion_matrix(y_true, y_pred):\n",
    "    ax = plt.subplot()\n",
    "    c_mat = confusion_matrix(y_true, y_pred)\n",
    "    sns.heatmap(c_mat, annot=True, fmt='g', ax=ax)\n",
    "    ax.set_xlabel('Predicted labels', fontsize=15)\n",
    "    ax.set_ylabel('True labels', fontsize=15)\n",
    "    ax.set_title('Confusion Matrix', fontsize=15)\n",
    "    \n",
    "y_pred = model_dt.predict(X_test)\n",
    "\n",
    "generate_confusion_matrix(y_test, y_pred)\n",
    "plt.show()\n",
    "multi_accuracy = accuracy_score(y_test, y_pred)\n",
    "print(f\"Prediction accuracy: {100*multi_accuracy:.2f}%\")"
   ]
  },
  {
   "cell_type": "code",
   "execution_count": 34,
   "id": "03a4c0f2-5242-4127-82d8-0ee10a8fd844",
   "metadata": {},
   "outputs": [
    {
     "name": "stdout",
     "output_type": "stream",
     "text": [
      "              precision    recall  f1-score   support\n",
      "\n",
      "           0       0.46      0.67      0.55         9\n",
      "           1       0.57      0.36      0.44        11\n",
      "\n",
      "    accuracy                           0.50        20\n",
      "   macro avg       0.52      0.52      0.49        20\n",
      "weighted avg       0.52      0.50      0.49        20\n",
      "\n"
     ]
    }
   ],
   "source": [
    "report = classification_report(y_test, y_pred)\n",
    "print(report)"
   ]
  },
  {
   "cell_type": "code",
   "execution_count": 35,
   "id": "e230e977-0a71-414f-b219-c46f6d2fa773",
   "metadata": {},
   "outputs": [
    {
     "name": "stdout",
     "output_type": "stream",
     "text": [
      "Fontconfig error: Cannot load default config file: No such file: (null)\n",
      "\n"
     ]
    },
    {
     "data": {
      "text/plain": [
       "True"
      ]
     },
     "execution_count": 35,
     "metadata": {},
     "output_type": "execute_result"
    }
   ],
   "source": [
    "import pydotplus\n",
    "\n",
    "d_tree = export_graphviz(model_dt, feature_names = features, filled = True, class_names=[\"mental_illness\", \"healthy\"]) \n",
    "pydot_graph = pydotplus.graph_from_dot_data(d_tree) \n",
    "pydot_graph.write_pdf('tree.pdf')"
   ]
  }
 ],
 "metadata": {
  "kernelspec": {
   "display_name": "Python 3",
   "language": "python",
   "name": "python3"
  },
  "language_info": {
   "codemirror_mode": {
    "name": "ipython",
    "version": 3
   },
   "file_extension": ".py",
   "mimetype": "text/x-python",
   "name": "python",
   "nbconvert_exporter": "python",
   "pygments_lexer": "ipython3",
   "version": "3.9.5"
  }
 },
 "nbformat": 4,
 "nbformat_minor": 5
}
